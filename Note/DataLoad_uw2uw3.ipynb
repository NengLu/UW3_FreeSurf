{
 "cells": [
  {
   "cell_type": "code",
   "execution_count": null,
   "id": "b0b14e11",
   "metadata": {},
   "outputs": [],
   "source": []
  },
  {
   "cell_type": "markdown",
   "id": "63914d77",
   "metadata": {},
   "source": [
    "### uw2"
   ]
  },
  {
   "cell_type": "code",
   "execution_count": null,
   "id": "47a9666d",
   "metadata": {},
   "outputs": [],
   "source": [
    "import underworld as uw\n",
    "from underworld import function as fn\n",
    "import underworld.visualisation as vis\n",
    "import math\n",
    "import numpy as np\n",
    "import os\n",
    "\n",
    "import matplotlib.pyplot as plt\n",
    "import numpy as np\n"
   ]
  },
  {
   "cell_type": "code",
   "execution_count": null,
   "id": "2f5d9803",
   "metadata": {},
   "outputs": [],
   "source": [
    "def load_mesh_uw2(output_path,meshCopy,step):\n",
    "    meshfile = output_path+'mesh.'+ str(step).zfill(5) +'.h5'\n",
    "    meshCopy.load(meshfile)\n",
    "    return meshCopy\n",
    "\n",
    "def load_swarm_uw2(output_path,meshCopy,step,swarm_name):\n",
    "    swarmCopy = uw.swarm.Swarm(mesh=meshCopy,particleEscape=True)\n",
    "    swarmfile = output_path+swarm_name + str(step).zfill(5) +'.h5'\n",
    "    swarmCopy.load(swarmfile)\n",
    "    return swarmCopy\n",
    "\n",
    "def load_mesh_var_uw2(output_path,meshCopy,step,var_name,nodeDofCount):\n",
    "    varField = meshCopy.add_variable(nodeDofCount=nodeDofCount)\n",
    "    varfile = output_path+var_name+ str(step).zfill(5) +'.h5'\n",
    "    varField.load(varfile)\n",
    "    return varField\n",
    "\n",
    "def load_swarm_uwg(output_path,meshCopy,step,swarm_name):\n",
    "    swarmCopy = uw.swarm.Swarm(mesh=meshCopy,particleEscape=True)\n",
    "    swarmfile = output_path+swarm_name+ str(step)+\".h5\"\n",
    "    swarmCopy.load(swarmfile)\n",
    "    return swarmCopy\n",
    "\n",
    "def load_mesh_var_uwg(output_path,meshCopy,step,var_name,nodeDofCount):\n",
    "    varField = meshCopy.add_variable(nodeDofCount=nodeDofCount)\n",
    "    varfile = output_path+var_name+ str(step) +'.h5'\n",
    "    varField.load(varfile)\n",
    "    return varField\n",
    "\n",
    "def load_swarm_var_uwg(output_path,swarmCopy,step,swarm_name):\n",
    "    materialField = swarmCopy.add_variable(\"int\",1)\n",
    "    filename = output_path+\"materialField-\"+ str(step)+\".h5\"\n",
    "    materialField.load(filename)"
   ]
  },
  {
   "cell_type": "code",
   "execution_count": null,
   "id": "387c6e6f",
   "metadata": {},
   "outputs": [],
   "source": []
  },
  {
   "cell_type": "markdown",
   "id": "e9e54aa3",
   "metadata": {},
   "source": [
    "### uw3"
   ]
  },
  {
   "cell_type": "code",
   "execution_count": null,
   "id": "440d0ceb",
   "metadata": {},
   "outputs": [],
   "source": [
    "import petsc4py\n",
    "from petsc4py import PETSc\n",
    "\n",
    "import underworld3 as uw\n",
    "from underworld3.systems import Stokes\n",
    "from underworld3 import function\n",
    "import numpy as np\n",
    "\n",
    "import matplotlib.pyplot as plt\n",
    "import pyvista as pv\n",
    "import glob"
   ]
  },
  {
   "cell_type": "code",
   "execution_count": null,
   "id": "e6815d39",
   "metadata": {},
   "outputs": [],
   "source": [
    "def load_swarm_uw3(output_path,load_step,swarmName):\n",
    "    swarmFilename =  f\"{output_path}{swarmName}_{load_step:05d}.xmf\"\n",
    "    swarmData = pv.XdmfReader(swarmFilename).read()\n",
    "    particleCoordinates = swarmData.points\n",
    "    return particleCoordinates\n",
    "\n",
    "def load_mesh_var_uw3(output_path,load_step,var_name):\n",
    "    pv_mesh_data = pv.XdmfReader(output_path + f'step_{load_step:05d}.xdmf').read()\n",
    "    var_d =  pv_mesh_data[var_name]\n",
    "    return var_d"
   ]
  },
  {
   "cell_type": "code",
   "execution_count": null,
   "id": "9bca237e",
   "metadata": {},
   "outputs": [],
   "source": [
    "def load_depth_uw3(fdir,maxstep,dstep):\n",
    "    depth_l = []\n",
    "    depth_r = []\n",
    "    time_l = []\n",
    "    for step in range(0,maxstep+1,dstep):\n",
    "        load_step = f\"{step:05d}\" \n",
    "        #swarmCopy= uw.swarm.Swarm(mesh)\n",
    "        swarmName  = \"surfaceSwarm\"\n",
    "        swarmFilename =  f\"{fdir}{swarmName}_{load_step}.xmf\"\n",
    "        swarmData = pv.XdmfReader(swarmFilename).read()\n",
    "        xcoord,ycoord= swarmData.points[:,0],swarmData.points[:,1]\n",
    "        \n",
    "        pv_mesh_data = pv.XdmfReader(fdir + f'step_{load_step}.xdmf').read()\n",
    "        time_d =  pv_mesh_data['time_time'][0]\n",
    "\n",
    "        depth_l.append(ycoord[0])   \n",
    "        depth_r.append(ycoord[1])  \n",
    "        time_l.append(time_d)  \n",
    "    return np.array(depth_l),np.array(depth_r),time_l"
   ]
  },
  {
   "cell_type": "code",
   "execution_count": null,
   "id": "987dc4ac",
   "metadata": {},
   "outputs": [],
   "source": [
    "from petsc4py import PETSc\n",
    "comm = PETSc.COMM_WORLD\n",
    "\n",
    "\n",
    "def find_topwall_mid(outputPath,load_step):\n",
    "    filename = outputPath + f'mesh._step_{load_step:05d}.h5'\n",
    "    viewer = PETSc.ViewerHDF5().create(filename, \"r\", comm=comm)\n",
    "    h5plex = PETSc.DMPlex().create(comm=comm)\n",
    "    sf0 = h5plex.topologyLoad(viewer)\n",
    "    h5plex.coordinatesLoad(viewer, sf0)\n",
    "    h5plex.labelsLoad(viewer, sf0)\n",
    "\n",
    "    cdim = 2\n",
    "    dm = h5plex\n",
    "    topwall = petsc_dm_find_labeled_points_local(dm,\"Top\")\n",
    "    coord_vec = dm.getCoordinatesLocal()\n",
    "    coords = coord_vec.array.reshape(-1, cdim)\n",
    "    \n",
    "    def find_ind(value):\n",
    "        topwall_x = coords[topwall,0]\n",
    "        idx = np.abs(topwall_x-value).argmin()\n",
    "        return idx\n",
    "    idx = find_ind(0)\n",
    "    topwallmid_Ind = topwall[idx] \n",
    "    return coords[topwallmid_Ind,1]"
   ]
  },
  {
   "cell_type": "code",
   "execution_count": null,
   "id": "193e1b26",
   "metadata": {},
   "outputs": [],
   "source": []
  },
  {
   "cell_type": "code",
   "execution_count": null,
   "id": "2a61b868",
   "metadata": {},
   "outputs": [],
   "source": []
  },
  {
   "cell_type": "code",
   "execution_count": null,
   "id": "1af3beea",
   "metadata": {},
   "outputs": [],
   "source": []
  }
 ],
 "metadata": {
  "kernelspec": {
   "display_name": "Python 3 (ipykernel)",
   "language": "python",
   "name": "python3"
  },
  "language_info": {
   "codemirror_mode": {
    "name": "ipython",
    "version": 3
   },
   "file_extension": ".py",
   "mimetype": "text/x-python",
   "name": "python",
   "nbconvert_exporter": "python",
   "pygments_lexer": "ipython3",
   "version": "3.10.11"
  }
 },
 "nbformat": 4,
 "nbformat_minor": 5
}
